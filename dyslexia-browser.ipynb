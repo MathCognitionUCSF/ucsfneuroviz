{
 "cells": [
  {
   "cell_type": "code",
   "execution_count": 1,
   "metadata": {},
   "outputs": [
    {
     "data": {
      "text/html": [
       "<link rel=\"stylesheet\" href=\"style_browser.css\">"
      ],
      "text/plain": [
       "<IPython.core.display.HTML object>"
      ]
     },
     "metadata": {},
     "output_type": "display_data"
    }
   ],
   "source": [
    "import os\n",
    "import sys\n",
    "import pandas as pd\n",
    "import ipywidgets as widgets\n",
    "from IPython.core.display import display, HTML\n",
    "from IPython.display import display, IFrame, Image\n",
    "\n",
    "display(HTML('<link rel=\"stylesheet\" href=\"style_browser.css\">'))\n",
    "\n",
    "from ucsfneuroviz.importer import import_dataframe\n",
    "from ucsfneuroviz.interactive_behav_plots import interactive_individual_line_plot\n",
    "from ucsfneuroviz.interactive_struct_plots import interactive_brain_zscore_plot, validate_id_number\n",
    "from ucsfneuroviz.interactive_diffusion_plots import interactive_dti_metrics\n",
    "\n",
    "from ucsfneuroviz.fc_vars import FC_vars, FC_vars_select\n",
    "\n",
    "path='/Volumes/language/language/mkersey/qsiprep_related/testing_recon_options/mrtrix_pyafq_tractometry_reco/sub-34429/ses-20230317/dwi/sub-34429_ses-20230317_space-T1w_desc-preproc/sub-34429_ses-20230317_space-T1w_desc-preproc_dwi_space-RASMM_model-probCSD_algo-AFQ_desc-viz_dwi.html'\n",
    "# add path to working directory\n",
    "sys.path.append(path)\n",
    "\n",
    "\n",
    "iframe = IFrame(src=path, width=\"100%\", height=\"600\")\n",
    "display(iframe)"
   ]
  },
  {
   "cell_type": "code",
   "execution_count": null,
   "metadata": {},
   "outputs": [],
   "source": [
    "# Insert photo from ./data/ folder\n",
    "Image(filename='./data/UCSF_sublogo_DyslexiaCenter_navy_RGB.png', width=250)"
   ]
  },
  {
   "cell_type": "code",
   "execution_count": null,
   "metadata": {},
   "outputs": [],
   "source": [
    "# Import Data\n",
    "brain_df = pd.read_csv('/Volumes/language/language/math_cognition/ucsfneuroviz/structural/all_structural_data.csv', index_col=0)\n",
    "behavior_df = import_dataframe('/Volumes/language/language/math_cognition/ucsfneuroviz/behavior/redcap_labels_with_diagnoses.csv')\n",
    "profiles_df = pd.read_csv('/Volumes/language/language/math_cognition/ucsfneuroviz/diffusion/all_profiles_data.csv', index_col=0)\n",
    "slcount_df = pd.read_csv('/Volumes/language/language/math_cognition/ucsfneuroviz/diffusion/all_slcount_data.csv', index_col=0)\n",
    "\n",
    "# Convert 'Rey-O Delay Percentile' \"<1\" to 0.5 and Force to numeric\n",
    "behavior_df['Rey-O Delay Percentile:'] = behavior_df['Rey-O Delay Percentile:'].apply(lambda x: 0.5 if x ==\"<1\" else x)\n",
    "behavior_df['Rey-O Delay Percentile:'] = pd.to_numeric(behavior_df['Rey-O Delay Percentile:'])\n",
    "# Replace all instances of \"Unchecked\" with 0 and \"Checked\" with 1\n",
    "# behavior_df = behavior_df.replace(to_replace=\"Unchecked\", value=0)\n",
    "# behavior_df = behavior_df.replace(to_replace=\"Checked\", value=1)"
   ]
  },
  {
   "cell_type": "code",
   "execution_count": null,
   "metadata": {},
   "outputs": [],
   "source": []
  },
  {
   "cell_type": "code",
   "execution_count": null,
   "metadata": {},
   "outputs": [],
   "source": [
    "import ipywidgets as widgets\n",
    "from IPython.display import display\n",
    "\n",
    "# Initialize text input widgets for subject ID and date\n",
    "subject_id_input = widgets.Text(\n",
    "    value='',\n",
    "    placeholder='Enter Subject ID',\n",
    "    description='Subject ID:',\n",
    "    disabled=False\n",
    ")\n",
    "\n",
    "date_input = widgets.Text(\n",
    "    value='',\n",
    "    placeholder='Enter Date',\n",
    "    description='Date:',\n",
    "    disabled=False\n",
    ")\n",
    "\n",
    "submit_button = widgets.Button(\n",
    "    description='Submit',\n",
    "    disabled=False,\n",
    "    button_style='',\n",
    "    tooltip='Click to generate plots',\n",
    "    icon='check'\n",
    ")\n",
    "\n",
    "# Function to generate all outputs\n",
    "def generate_all_outputs(button):\n",
    "    # Clear error output\n",
    "    out_error.clear_output(wait=True)\n",
    "    for i in range(len(tab.children)):\n",
    "        generate_outputs(i)\n",
    "\n",
    "# Attach click event to the submit button\n",
    "submit_button.on_click(generate_all_outputs)\n",
    "\n",
    "# Display the text input widgets and the submit button\n",
    "input_widgets = widgets.HBox([subject_id_input, date_input, submit_button])\n",
    "display(input_widgets)\n",
    "\n",
    "# Initialize output widgets for each tab\n",
    "structural_output = widgets.Output()\n",
    "diffusion_output = widgets.Output()\n",
    "functional_output = widgets.Output()\n",
    "behavior_output = widgets.Output()\n",
    "out_error = widgets.Output()\n",
    "\n",
    "display(out_error)\n",
    "\n",
    "# Initialize the tab widget and set the titles\n",
    "tab = widgets.Tab()\n",
    "tab.children = [structural_output, diffusion_output, functional_output, behavior_output]\n",
    "tab.set_title(0, 'Structural MRI')\n",
    "tab.set_title(1, 'Diffusion MRI')\n",
    "tab.set_title(2, 'Functional MRI')\n",
    "tab.set_title(3, 'Behavioral Scores')\n",
    "\n",
    "diagnosis_columns = ['Diagnosis Overall', 'Dyslexia and ADHD', 'Dyslexia Phenotype', 'Dyslexia Phenotype Short', 'Dyslexia and Dyscalculia', 'Dyslexia and MLD', 'MLD Subtype Primary', 'MLD Subtype Secondary']\n",
    "\n",
    "# Define your function to generate outputs based on the selected tab\n",
    "def generate_outputs(tab_index):\n",
    "    # Fetch subject ID and date from the global text input widgets\n",
    "    # subject_id = subject_id_input.value.strip()\n",
    "    subject_id = validate_id_number(subject_id_input.value.strip(), behavior_df, out_error)\n",
    "    date = date_input.value.strip()\n",
    "\n",
    "    if not subject_id or not date:\n",
    "        print(\"Please enter both Subject ID and Date.\")\n",
    "        return\n",
    "\n",
    "    if tab_index == 0:  # Structural MRI\n",
    "        with structural_output:\n",
    "            structural_output.clear_output(wait=True)\n",
    "            interactive_brain_zscore_plot(brain_df, behavior_df, diagnosis_columns, subject_id, date)\n",
    "\n",
    "    elif tab_index == 1:  # Diffusion MRI\n",
    "        with diffusion_output:\n",
    "            diffusion_output.clear_output(wait=True)\n",
    "\n",
    "            local_path = \"./data/\" # local folder to copy file to\n",
    "            ldrive_path = f\"/Volumes/language/language/mkersey/qsiprep_related/testing_recon_options/mrtrix_pyafq_tractometry_reco/\"\n",
    "            folder_path = f\"sub-{subject_id}/ses-{date}/dwi/sub-{subject_id}_ses-{date}_space-T1w_desc-preproc/\" # copy file from ldrive to local folder\n",
    "            file_name = f\"sub-{subject_id}_ses-{date}_space-T1w_desc-preproc_dwi_space-RASMM_model-probCSD_algo-AFQ_desc-viz_dwi.html\"\n",
    "            full_path_to_file = os.path.join(ldrive_path, folder_path, file_name)\n",
    "\n",
    "            # if file is not already in local folder, copy it from ldrive\n",
    "            if not os.path.isfile(os.path.join(local_path, file_name)):\n",
    "                os.system(f\"cp {full_path_to_file} {local_path}\")\n",
    "\n",
    "            full_path_local = os.path.join(local_path, file_name)\n",
    "\n",
    "            iframe = IFrame(src=full_path_local, width=\"100%\", height=\"600\")\n",
    "            display(iframe)\n",
    "\n",
    "            interactive_dti_metrics(slcount_df, profiles_df, behavior_df, diagnosis_columns, sub_id=subject_id, ses_id=date)\n",
    "    \n",
    "    elif tab_index == 2:  # Functional MRI\n",
    "        with functional_output:\n",
    "            functional_output.clear_output(wait=True)\n",
    "            iframe = IFrame(src='', width=\"1000\", height=\"600\")\n",
    "            display(iframe)\n",
    "\n",
    "    elif tab_index == 3:  # Behavioral Scores\n",
    "        with behavior_output:\n",
    "            behavior_output.clear_output(wait=True)\n",
    "            interactive_individual_line_plot(behavior_df, 'ID Number', diagnosis_columns, FC_vars_select, subject_id, date)\n",
    "\n",
    "# Function to run when the selected tab changes\n",
    "def on_tab_value_change(change):\n",
    "    generate_outputs(change['new'])  # Manually trigger the function\n",
    "\n",
    "# Attach the change event to the tab\n",
    "tab.observe(on_tab_value_change, names='selected_index')\n",
    "\n",
    "# Generate default outputs (for the first tab)\n",
    "# generate_outputs(0)\n",
    "\n",
    "# Display the tab\n",
    "display(tab)\n",
    "\n"
   ]
  },
  {
   "cell_type": "code",
   "execution_count": null,
   "metadata": {},
   "outputs": [],
   "source": [
    "# diagnosis_columns = ['Diagnosis Overall', 'Dyslexia and ADHD', 'Dyslexia Phenotype', 'Dyslexia Phenotype Short', 'Dyslexia and Dyscalculia', 'Dyslexia and MLD', 'MLD Subtype Primary', 'MLD Subtype Secondary']\n",
    "# interactive_brain_zscore_plot(brain_df, behavior_df, diagnosis_columns)"
   ]
  },
  {
   "cell_type": "code",
   "execution_count": null,
   "metadata": {},
   "outputs": [],
   "source": [
    "# interactive_individual_line_plot(behavior_df, 'ID Number', diagnosis_columns, FC_vars_select)"
   ]
  },
  {
   "cell_type": "code",
   "execution_count": null,
   "metadata": {},
   "outputs": [],
   "source": []
  },
  {
   "cell_type": "code",
   "execution_count": null,
   "metadata": {},
   "outputs": [],
   "source": []
  },
  {
   "cell_type": "code",
   "execution_count": null,
   "metadata": {},
   "outputs": [],
   "source": []
  }
 ],
 "metadata": {
  "kernelspec": {
   "display_name": "Python 3.9.6 64-bit",
   "language": "python",
   "name": "python3"
  },
  "language_info": {
   "codemirror_mode": {
    "name": "ipython",
    "version": 3
   },
   "file_extension": ".py",
   "mimetype": "text/x-python",
   "name": "python",
   "nbconvert_exporter": "python",
   "pygments_lexer": "ipython3",
   "version": "3.9.6"
  },
  "orig_nbformat": 4,
  "vscode": {
   "interpreter": {
    "hash": "31f2aee4e71d21fbe5cf8b01ff0e069b9275f58929596ceb00d14d90e3e16cd6"
   }
  }
 },
 "nbformat": 4,
 "nbformat_minor": 2
}
