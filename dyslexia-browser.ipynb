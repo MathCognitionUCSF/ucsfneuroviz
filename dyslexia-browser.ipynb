{
 "cells": [
  {
   "cell_type": "code",
   "execution_count": 6,
   "metadata": {},
   "outputs": [
    {
     "data": {
      "text/html": [
       "<link rel=\"stylesheet\" href=\"style_browser.css\">"
      ],
      "text/plain": [
       "<IPython.core.display.HTML object>"
      ]
     },
     "metadata": {},
     "output_type": "display_data"
    }
   ],
   "source": [
    "import pandas as pd\n",
    "import ipywidgets as widgets\n",
    "from IPython.core.display import display, HTML\n",
    "display(HTML('<link rel=\"stylesheet\" href=\"style_browser.css\">'))\n",
    "\n",
    "# display(HTML(\"<style>.some-class { margin: 0 !important; }</style>\"))\n",
    "\n",
    "from ucsfneuroviz.importer import import_dataframe, read_csv_as_list\n",
    "from ucsfneuroviz.interactive_behav_plots import interactive_heatmap, interactive_radar, interactive_line_plot, interactive_individual_line_plot\n",
    "from ucsfneuroviz.interactive_struct_plots import interactive_brain_zscore_plot\n",
    "from ucsfneuroviz.interactive_diffusion_plots import generate_legend\n",
    "\n",
    "from ucsfneuroviz.fc_vars import FC_vars, FC_vars_select"
   ]
  },
  {
   "cell_type": "markdown",
   "metadata": {},
   "source": [
    "# UCSF Dyslexia Center"
   ]
  },
  {
   "cell_type": "code",
   "execution_count": 7,
   "metadata": {},
   "outputs": [
    {
     "name": "stderr",
     "output_type": "stream",
     "text": [
      "/Users/mkersey/code/ucsfneuroviz/ucsfneuroviz/importer.py:10: DtypeWarning: Columns (9,13,17,22,24,26,29,31,45,61,62,63,82,88,89,90,91,92,93,94,95,96,97,98,99,100,101,102,103,104,105,107,108,113,114,115,116,117,119,120,121,126,127,200,203,204,207,218,219,220,291,413,441,442,493,494,502,503,504,505,506,507,508,513,514,516,517,518,519,520,521,540,541,587,588,589,590,591,594,600,612,614,616,642,649,650,651,656,657,665,693,721,723,724,725,726,727,735,736,779,787,795,796,797,798,809,812,813,814,821,823,825,827,828,829,853,865,866,867,868,878,879,881,882,883,884,887,890,893,896,898,901,905,908,912,916,920,924,929,933,937,942,945,949,952,955,958,961,964,967,970,973,976,978,979,980,981,984,1100,1103,1109,1114,1116,1119,1120,1137,1138,1139,1145,1146,1147,1148,1149,1150,1155,1156,1157,1159,1163,1164,1179,1183,1184,1185,1186,1187,1188,1189,1191,1192,1193,1194,1195,1196,1197,1198,1199,1200,1201,1211,1213,1214,1215,1216,1217,1218,1219,1220,1221,1222,1223,1224,1225,1226,1227,1228,1229,1230,1231,1251,1252,1253,1254,1255,1258,1261,1262,1263,1264,1265,1266,1267,1269,1270,1271,1272,1273,1275,1279,1280,1282,1283,1284,1286,1287,1289,1290,1292,1313,1314,1316,1317,1318,1323,1324,1325,1327,1328,1329,1331,1332,1333,1334,1336,1337,1339,1340,1341,1342,1343,1344,1345,1346,1347,1349,1350,1351,1352,1353,1354,1355,1356,1357,1358,1359,1361,1362,1363,1364,1365,1366,1367,1368,1369,1370,1371,1373,1374,1375,1376,1377,1378,1379,1380,1381,1382,1383,1385,1386,1387,1388,1389,1390,1391,1392,1393,1394,1395,1397,1398,1399,1400,1401,1404,1405,1408,1409,1410,1411,1414,1415,1416,1417,1418,1419,1420,1421,1435,1436,1437,1438,1439,1440,1441,1442,1443,1444,1445,1446,1447,1448,1449,1451,1452,1453,1455,1456,1457,1458,1459,1460,1461,1462,1465,1466,1467,1468,1469,1470,1471,1472,1473,1474,1475,1476,1477,1478,1479,1480,1481,1482,1483,1484,1485,1486,1487,1488,1489,1490,1491,1492,1493,1494,1495,1496,1497,1498,1499,1500,1501,1502,1503,1504,1505,1506,1507,1508,1509,1510,1511,1512,1513,1514,1515,1516,1517,1518,1519,1520,1521,1522,1523,1524,1525,1526,1527,1528,1529,1530,1531,1532,1533,1534,1535,1536,1537,1538,1539,1540,1541,1542,1543,1544,1545,1546,1547,1548,1549,1550,1551,1552,1553,1554,1555,1556,1557,1558,1559,1560,1561,1562,1563,1564,1565,1567,1568,1570,1571,1577,1580,1581,1582,1583,1584,1586,1587,1588,1590,1593,1594,1595,1597,1598,1599,1600,1601,1602,1603,1604,1605,1606,1607,1608,1609,1614,1615,1616,1617,1618,1619,1621,1622,1623,1624,1625,1627,1628,1629,1630,1631,1633,1634,1635,1636,1637,1639,1640,1641,1642,1643,1645,1646,1647,1648,1649,1651,1657,1658,1659,1661,1662,1663,1664,1665,1666,1667,1668,1669,1670,1671,1672,1673,1674,1675,1676,1677,1678,1679,1680,1681,1682,1683,1684,1685,1686,1687,1690,1691,1692,1693,1698,1699,1702,1703,1704,1705,1706,1707,1708,1709,1710,1711,1712,1713,1714,1715,1716,1719,1720,1721,1722,1731,1732,1733,1734,1735,1736,1737,1738,1739,1740,1741,1742,1743,1744,1747,1748,1749,1750,1751,1752,1753,1754,1755,1756,1757,1758,1759,1760,1761,1762,1763,1764,1765,1766,1767,1768,1769,1770,1771,1772,1773,1774,1776,1777,1778,1779,1780,1781,1782,1783,1784,1785,1786,1787,1788,1789,1790,1791,1792,1793,1794,1795,1796,1798,1800,1801,1802,1803,1804,1805,1806,1807,1808,1809,1811,1812,1813,1814,1817,1820,1826,1829,1841,1842,1843,1844,1845,1846,1847,1848,1857,1858,1859,1860,1861,1862,1863,1864,1865,1866,1867,1877,1878,1880,1881,1882,1883,1884,1885,1886,1887,1888,1890,1891,1892,1903,1904,1905,1906,1907,1908,1909,1910,1911,1912,1913,1914,1915,1916,1917,1918,1919,1920,1921,1922,1923,1924,1925,1926,1927,1928,1929,1930,1931,1932,1933,1934,1935,1936,1937,1938,1939,1940,1941,1943,1944,1950,1951,1952,1953,1954,1955,1956,1957,1958,1959,1960,1964,1965,1966,1967,1968,1970,1971,1972,1973,1974,1983,1984,1985,1986,1987,1988,1990,1991,1992,1993,1994,1996,1997,1998,1999,2000,2001,2002,2003,2004,2005,2006,2007,2008,2009,2010,2011,2012,2013,2014,2015,2016,2017,2018,2019,2020,2021,2022,2023,2024,2025,2028,2029,2032,2033,2034,2035,2037,2038,2051,2053,2054,2055,2056,2057,2058,2059,2060,2061,2065,2067,2068,2069,2070,2071,2072,2073,2074,2075,2076,2077,2078,2079,2080,2081,2082,2083,2084,2085,2086,2087,2088,2089,2090,2091,2092,2093,2094,2095,2096,2097,2098,2099,2100,2101,2102,2103,2104,2105,2106,2107,2108,2109,2110,2111,2112,2113,2114,2115,2116,2117,2118,2119,2120,2121,2122,2123,2124,2126,2136,2139,2140,2141,2142,2143,2144,2145,2146,2147,2148,2149,2150,2151,2152,2153,2154,2155,2156,2157,2158,2159,2160,2161,2162,2163,2164,2165,2166,2167,2168,2169,2170,2171,2172,2173,2174,2175,2176,2177,2178,2179,2180,2181,2185,2186,2187,2188,2189,2190,2191,2192,2193,2195,2197,2275,2276,2279,2280,2281,2282,2283,2284,2285,2287,2290,2291,2292,2293,2294,2300,2301,2302,2304,2305,2306,2307,2308,2309,2310,2311,2312,2313,2314,2315,2316,2317,2318,2319,2320,2321,2322,2323,2324,2325,2326,2327,2328,2329,2330,2331,2332,2333,2334,2335,2336,2337,2338,2339,2340,2346,2348,2350,2351,2352,2353,2365,2377,2378,2379,2385,2386,2387,2389,2390,2391,2393,2394,2395,2396,2397,2403,2404,2405,2406,2407,2408,2409,2410,2411,2412,2413,2414,2415,2416,2417,2418,2419,2420,2421,2422,2423,2424,2425,2426,2427,2428,2429,2430,2431,2432,2433,2434,2435,2436,2437,2438,2439,2440,2441,2442,2443,2449,2451,2452,2454,2455,2456,2468,2480,2481,2482,2488,2489,2490,2491,2492,2493,2494,2496,2497,2498,2499,2500,2506,2507,2508,2509,2510,2511,2512,2513,2514,2515,2516,2517,2518,2519,2520,2521,2522,2523,2524,2525,2526,2527,2528,2529,2530,2531,2532,2533,2534,2535,2536,2537,2538,2539,2540,2541,2542,2543,2544,2545,2546,2553,2554,2557,2558,2559,2571,2583,2584,2585,2592,2593,2594,2595,2596,2597,2599,2601,2602,2603,2604,2605,2606,2607,2608,2609,2610,2611,2612,2613,2614,2615,2616,2617,2618,2619,2620,2621,2622,2623,2624,2625,2626,2627,2628,2629,2630,2631,2633,2635,2636,2637,2638,2639,2640,2641,2642,2643,2644,2645,2646,2647,2648,2649,2650,2651,2652,2653,2654,2655,2656,2657,2658,2659,2660,2661,2662,2663,2664,2665,2667,2669,2670,2671,2672,2673,2674,2675,2676,2677,2678,2679,2680,2681,2682,2683,2684,2685,2686,2687,2688,2689,2690,2691,2692,2693,2694,2695,2696,2697,2698,2699,2701,2707,2708,2709,2710,2711,2712,2713,2714,2715,2716,2717,2718,2719,2720,2721,2722,2723,2724,2725,2726,2727,2728,2729,2858,2860,2868,2869,2870,2880,2881,2882,2892,2893,2894,2896,2904,2905,2906,2908,2917,2918,2920,2929,2930,2932,2940,2941,2942,2944,2952,2953,2954,2956,2965,2966,2968,2976,2977,2978,2980,2989,2990,2998,2999,3000,3001,3002,3003,3004,3005,3006,3007,3008,3009,3010,3011,3012,3013,3014,3015,3016,3017,3018,3019,3020,3100,3113,3114,3115,3123,3125,3127,3137,3138,3139,3148,3159,3160,3161,3162,3163,3171,3172,3173,3175,3184,3185,3187,3196,3197,3199,3208,3209,3219,3220,3221,3232,3235,3244,3245,3247,3256,3257,3259,3267,3268,3279,3280,3281,3283,3289,3290,3291,3292,3293,3294,3295,3296,3297,3298,3299,3300,3301,3345,3356,3357,3369,3370,3381,3384,3393,3394,3396,3404,3405,3406,3408,3416,3417,3418,3420,3429,3430,3432,3433,3442,3444,3450,3451,3453,3454,3455,3457,3458,3460,3461,3463,3464,3466,3467,3469,3470,3472,3473,3475,3529,3547,3548,3549,3555,3559,3561,3565,3566,3567,3573,3578,3579,3583,3584,3590,3595,3596,3597,3601,3602,3607,3608,3609,3613,3614,3615,3619,3620,3621,3626,3637,3644,3645,3647,3648,3649,3651,3652,3654,3655,3657,3658,3660,3661,3663,3664,3666,3667,3669,3705,3706,3723,3724,3741,3742,3749,3754,3759,3760,3766,3767,3771,3772,3773,3777,3778,3785,3789,3790,3791,3795,3796,3801,3802,3807,3808,3813,3814,3815,3819,3820,3821,3825,3826,3827,3831,3838,3839,3840,3841,3842,3843,3844,3845,3846,3847,3848,3849,3850,3851,3852,3853,3854,3855,3856,3857,3858,3859,3860,3865,3866,3867,3868,3869,3870,3871,3872,3873,3874,3875,3880,3881,3882,3883,3884,3885,3886,3887,3888,3889,3890,3902,3938,3939,3940,3941,3942,3943,3944,3945,3946,3951,3952,3953,3954,3955,3956,3957,3958,3959,3960,3961,3963,3964,3968,3969,3976,3977,3978,3979,3980,3981,3982,3983,3984,3985,3986,3987,3988,3989,3990,3991,3992,3993,3994,3995,3996,3998,4000,4002,4003,4004,4005,4008,4013,4014,4015,4016,4017,4018,4019,4020,4021,4022,4023,4025,4028,4029,4032,4038,4039,4040,4041,4042,4043,4044,4045,4046,4047,4048,4049,4050,4051,4052,4053,4054,4055,4057,4058,4059,4061,4062,4063,4064,4065,4066,4067,4068,4069,4070,4075,4076,4077,4078,4079,4080,4081,4082,4083,4084,4085,4086,4087,4088,4089,4090,4091,4092,4093,4094,4095,4099,4100,4101,4102,4103,4104,4109,4113,4114,4115,4120,4152,4158,4166,4167,4168,4174,4176,4182,4183,4184,4185,4190,4191,4192,4193,4198,4200,4201,4206,4207,4208,4209,4210,4211,4212,4213,4214,4215,4216,4217,4218,4225,4226,4235,4236,4238,4245,4246,4266,4275,4276,4278,4286,4296,4297,4298,4306,4308,4316,4326,4336,4338,4343,4344,4345,4346,4347,4348,4349,4357,4359,4367,4369,4377,4386,4387,4399,4409,4414,4415,4416,4417,4418,4419,4420,4421,4422,4423,4426,4427,4428,4429,4430,4431,4432,4437,4438,4439,4440,4441,4442,4443,4444,4445,4446,4447,4463,4469,4475,4481,4482,4483,4487,4488,4489,4493,4494,4495,4499,4505,4507,4512,4513,4514,4515,4516,4517,4518,4519,4520,4521,4522,4531,4533,4534,4543,4545,4555,4556,4557,4558,4568,4569,4570,4579,4580,4581,4582,4593,4606,4614,4615,4617,4618,4627,4628,4629,4630,4638,4639,4640,4641,4642,4647,4648,4649,4650,4651,4652,4653,4654,4655,4656,4657,4658,4659,4660,4661,4662,4663,4664,4665,4666,4667,4672,4673,4674,4675,4676,4677,4678,4679,4680,4681,4682,4684,4685,4686,4687,4688,4689,4690,4691,4692,4697,4698,4699,4700,4701,4702,4703,4704,4705,4710,4711,4712,4713,4714,4716,4717,4718,4723,4724,4725,4726,4727,4728,4729,4730,4731,4759,4780,4781,4782,4783,4784,4785,4786,4787,4788,4794,4797,4798,4799,4800,4801,4802) have mixed types. Specify dtype option on import or set low_memory=False.\n",
      "  df = pd.read_csv(filename)\n"
     ]
    }
   ],
   "source": [
    "# Import Data\n",
    "brain_df = pd.read_csv('/Volumes/language/language/math_cognition/ucsfneuroviz/structural/all_structural_data.csv', index_col=0)\n",
    "behavior_df = import_dataframe('/Volumes/language/language/math_cognition/ucsfneuroviz/behavior/redcap_labels_with_diagnoses.csv')\n",
    "# Convert 'Rey-O Delay Percentile' \"<1\" to 0.5 and Force to numeric\n",
    "behavior_df['Rey-O Delay Percentile:'] = behavior_df['Rey-O Delay Percentile:'].apply(lambda x: 0.5 if x ==\"<1\" else x)\n",
    "behavior_df['Rey-O Delay Percentile:'] = pd.to_numeric(behavior_df['Rey-O Delay Percentile:'])\n",
    "# Replace all instances of \"Unchecked\" with 0 and \"Checked\" with 1\n",
    "# behavior_df = behavior_df.replace(to_replace=\"Unchecked\", value=0)\n",
    "# behavior_df = behavior_df.replace(to_replace=\"Checked\", value=1)"
   ]
  },
  {
   "cell_type": "code",
   "execution_count": 8,
   "metadata": {},
   "outputs": [
    {
     "data": {
      "application/vnd.jupyter.widget-view+json": {
       "model_id": "6d337458dd78469da1f3396eadb0588e",
       "version_major": 2,
       "version_minor": 0
      },
      "text/plain": [
       "Output()"
      ]
     },
     "metadata": {},
     "output_type": "display_data"
    },
    {
     "data": {
      "application/vnd.jupyter.widget-view+json": {
       "model_id": "ae7a277d71674ba0a8901e99d9cfa2a5",
       "version_major": 2,
       "version_minor": 0
      },
      "text/plain": [
       "Output()"
      ]
     },
     "metadata": {},
     "output_type": "display_data"
    },
    {
     "data": {
      "application/vnd.jupyter.widget-view+json": {
       "model_id": "a01d36e060864ca69a74662f9f985e1d",
       "version_major": 2,
       "version_minor": 0
      },
      "text/plain": [
       "Output()"
      ]
     },
     "metadata": {},
     "output_type": "display_data"
    },
    {
     "data": {
      "application/vnd.jupyter.widget-view+json": {
       "model_id": "294af92c4fa647249ffe3e83a1a6f5e4",
       "version_major": 2,
       "version_minor": 0
      },
      "text/plain": [
       "Tab(children=(VBox(children=(Dropdown(description='MRI Modality:', options=('Structural', 'Diffusion', 'fLoc')…"
      ]
     },
     "metadata": {},
     "output_type": "display_data"
    }
   ],
   "source": [
    "import ipywidgets as widgets\n",
    "\n",
    "brain_output = widgets.Output()\n",
    "behavior_output = widgets.Output()\n",
    "tab = widgets.Tab()\n",
    "tab.children = [brain_output, behavior_output]\n",
    "tab.set_title(0, 'Brain')\n",
    "tab.set_title(1, 'Behavior')\n",
    "\n",
    "# Define the options for the dropdown\n",
    "mri_modalities = ['Structural', 'Diffusion', 'fLoc']\n",
    "\n",
    "# Create the dropdown widget\n",
    "dropdown = widgets.Dropdown(options=mri_modalities, value='Structural', description='MRI Modality:')\n",
    "\n",
    "diagnosis_columns = ['Diagnosis Overall', 'Dyslexia and ADHD', 'Dyslexia Phenotype', 'Dyslexia Phenotype Short', 'Dyslexia and Dyscalculia', 'Dyslexia and MLD', 'MLD Subtype Primary', 'MLD Subtype Secondary']\n",
    "\n",
    "def generate_brain_inputs(output_widget):\n",
    "    with output_widget:\n",
    "        # Clear the output widget\n",
    "        output_widget.clear_output(wait=True)\n",
    "        \n",
    "        # Get the selected modality from the dropdown\n",
    "        selected_modality = dropdown.value\n",
    "        \n",
    "        # Call the appropriate function based on the selected modality\n",
    "        if selected_modality == 'Structural':\n",
    "            interactive_brain_zscore_plot(brain_df, behavior_df, diagnosis_columns)\n",
    "\n",
    "        elif selected_modality == 'Diffusion':\n",
    "            # Generate an IFrame to embed the HTML content\n",
    "            iframe = IFrame(src=\"real_file_path.html\", width=\"75%\", height=\"600\")\n",
    "            \n",
    "            # Create an Output widget to wrap the IFrame\n",
    "            output_with_iframe = widgets.Output()\n",
    "            with output_with_iframe:\n",
    "                display(iframe)\n",
    "            \n",
    "            # Display the legend and the wrapped IFrame side by side in an HBox\n",
    "            display(widgets.HBox([output_with_iframe, legend]))\n",
    "\n",
    "        elif selected_modality == 'fLoc':\n",
    "            # Call the fLoc plot function\n",
    "            pass  # Replace this with your code to generate the fLoc plot\n",
    "\n",
    "def generate_behavior_inputs(output_widget):\n",
    "    with output_widget:\n",
    "        # Clear the output widget\n",
    "        output_widget.clear_output(wait=True)\n",
    "        # Generate behavior-related plots\n",
    "        interactive_individual_line_plot(behavior_df, 'ID Number', diagnosis_columns, FC_vars_select)\n",
    "\n",
    "# Attach the function to the dropdown's value attribute\n",
    "dropdown.observe(lambda change: generate_brain_inputs(brain_output), names='value')\n",
    "\n",
    "# Generate brain inputs by default\n",
    "generate_brain_inputs(brain_output)\n",
    "\n",
    "# Add the dropdown widget and the brain plot to the brain tab\n",
    "brain_tab = widgets.VBox([dropdown, brain_output])\n",
    "tab.children = [brain_tab, behavior_output]\n",
    "\n",
    "tab.observe(lambda change: generate_brain_inputs(brain_output) if change['new'] == 0 else generate_behavior_inputs(behavior_output), names='selected_index')\n",
    "display(tab)"
   ]
  },
  {
   "cell_type": "code",
   "execution_count": 4,
   "metadata": {},
   "outputs": [],
   "source": [
    "# diagnosis_columns = ['Diagnosis Overall', 'Dyslexia and ADHD', 'Dyslexia Phenotype', 'Dyslexia Phenotype Short', 'Dyslexia and Dyscalculia', 'Dyslexia and MLD', 'MLD Subtype Primary', 'MLD Subtype Secondary']\n",
    "# interactive_brain_zscore_plot(brain_df, behavior_df, diagnosis_columns)"
   ]
  },
  {
   "cell_type": "code",
   "execution_count": null,
   "metadata": {},
   "outputs": [],
   "source": [
    "# interactive_individual_line_plot(behavior_df, 'ID Number', diagnosis_columns, FC_vars_select)"
   ]
  },
  {
   "cell_type": "code",
   "execution_count": null,
   "metadata": {},
   "outputs": [],
   "source": []
  },
  {
   "cell_type": "code",
   "execution_count": null,
   "metadata": {},
   "outputs": [],
   "source": []
  },
  {
   "cell_type": "code",
   "execution_count": null,
   "metadata": {},
   "outputs": [],
   "source": []
  },
  {
   "cell_type": "code",
   "execution_count": null,
   "metadata": {},
   "outputs": [],
   "source": []
  }
 ],
 "metadata": {
  "kernelspec": {
   "display_name": "Python 3",
   "language": "python",
   "name": "python3"
  },
  "language_info": {
   "codemirror_mode": {
    "name": "ipython",
    "version": 3
   },
   "file_extension": ".py",
   "mimetype": "text/x-python",
   "name": "python",
   "nbconvert_exporter": "python",
   "pygments_lexer": "ipython3",
   "version": "3.9.6"
  },
  "orig_nbformat": 4
 },
 "nbformat": 4,
 "nbformat_minor": 2
}
