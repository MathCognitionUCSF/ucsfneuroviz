{
 "cells": [
  {
   "cell_type": "code",
   "execution_count": 3,
   "metadata": {},
   "outputs": [],
   "source": [
    "# !pip install ipyniivue\n",
    "from ipyniivue import Niivue\n",
    "import ipywidgets as widgets\n",
    "import os\n",
    "#\n",
    "#nv = Niivue(crosshair_color=[0,1,0,1])\n",
    "#nv.add_volume('/Volumes/language/dyslexia/dyslexia_bids/sub-34429/ses-20230317/anat/sub-34429_ses-20230317_T1w.nii.gz')\n",
    "#nv"
   ]
  },
  {
   "cell_type": "code",
   "execution_count": 4,
   "metadata": {},
   "outputs": [
    {
     "data": {
      "application/vnd.jupyter.widget-view+json": {
       "model_id": "14f530cb99314daab3e3cec142859e4d",
       "version_major": 2,
       "version_minor": 0
      },
      "text/plain": [
       "VBox(children=(ipyniivue.Niivue(back_color=[0.0, 0.0, 0.0, 1.0], clip_plane_color=[1.0, 1.0, 1.0, 0.5], crossh…"
      ]
     },
     "metadata": {},
     "output_type": "display_data"
    }
   ],
   "source": [
    "# Creating a NiiVue object\n",
    "nv = Niivue(is_orient_cube=True)\n",
    "\n",
    "# Display it so it has a canvas an WebGL context. Also display the controls\n",
    "display(widgets.VBox([nv]))"
   ]
  },
  {
   "cell_type": "code",
   "execution_count": 5,
   "metadata": {},
   "outputs": [],
   "source": [
    "nv.add_volume(\"/Volumes/language/language/mkersey/qsiprep_related/testing_recon_options/mrtrix_pyafq_tractometry_reco/sub-34429_ses-20230317_space-T1w_dwiref.nii.gz\")\n",
    "#nv.set_slice_type(nv.slice_type)"
   ]
  },
  {
   "cell_type": "code",
   "execution_count": 6,
   "metadata": {},
   "outputs": [],
   "source": [
    "ref_path = \"/Volumes/language/language/mkersey/qsiprep_related/testing_recon_options/mrtrix_pyafq_tractometry_reco/sub-34429_ses-20230317_space-T1w_dwiref.nii.gz\"\n",
    "\n",
    "# Load trk files\n",
    "base_path_tracts = \"/Volumes/language/language/mkersey/qsiprep_related/testing_recon_options/mrtrix_pyafq_tractometry_reco/sub-34429/ses-20230317/dwi/sub-34429_ses-20230317_space-T1w_desc-preproc/clean_bundles/\"\n",
    "tract_files = [\n",
    "    os.path.join(base_path_tracts, \"sub-34429_ses-20230317_space-T1w_desc-preproc_dwi_space-RASMM_model-probCSD_algo-AFQ_desc-ARCL_tractography.trk\"),\n",
    "    os.path.join(base_path_tracts, \"sub-34429_ses-20230317_space-T1w_desc-preproc_dwi_space-RASMM_model-probCSD_algo-AFQ_desc-ARCR_tractography.trk\")\n",
    "    # Add more trk file paths\n",
    "]\n",
    "nv.load_meshes([{\"url\": tract_files[0]}, {\"url\": tract_files[1]}])\n"
   ]
  },
  {
   "cell_type": "code",
   "execution_count": null,
   "metadata": {},
   "outputs": [],
   "source": [
    "nv.set_mesh_property(nv.meshes[0].id, \"colormap\", \"blue\")\n",
    "nv.set_clip_plane([-0.1, 270, 0])"
   ]
  },
  {
   "cell_type": "code",
   "execution_count": null,
   "metadata": {},
   "outputs": [],
   "source": [
    "tract_files"
   ]
  },
  {
   "cell_type": "code",
   "execution_count": null,
   "metadata": {},
   "outputs": [],
   "source": []
  },
  {
   "cell_type": "code",
   "execution_count": null,
   "metadata": {},
   "outputs": [],
   "source": []
  }
 ],
 "metadata": {
  "kernelspec": {
   "display_name": "Python 3.9.13 ('base')",
   "language": "python",
   "name": "python3"
  },
  "language_info": {
   "codemirror_mode": {
    "name": "ipython",
    "version": 3
   },
   "file_extension": ".py",
   "mimetype": "text/x-python",
   "name": "python",
   "nbconvert_exporter": "python",
   "pygments_lexer": "ipython3",
   "version": "3.9.6"
  },
  "orig_nbformat": 4,
  "vscode": {
   "interpreter": {
    "hash": "7d7010f9d425683ae41e5b0b8dc0d6eb35e44e03f18d381e022146c22a330439"
   }
  }
 },
 "nbformat": 4,
 "nbformat_minor": 2
}
