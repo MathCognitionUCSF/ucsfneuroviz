{
 "cells": [
  {
   "cell_type": "code",
   "execution_count": 2,
   "metadata": {},
   "outputs": [
    {
     "data": {
      "application/vnd.jupyter.widget-view+json": {
       "model_id": "d1d1c44de154499cbccf2dabeac7c6da",
       "version_major": 2,
       "version_minor": 0
      },
      "text/plain": [
       "ipyniivue.Niivue(back_color=[0.0, 0.0, 0.0, 1.0], clip_plane_color=[1.0, 1.0, 1.0, 0.5], crosshair_color=[0.0,…"
      ]
     },
     "execution_count": 2,
     "metadata": {},
     "output_type": "execute_result"
    },
    {
     "name": "stdout",
     "output_type": "stream",
     "text": [
      "_handle_frontend_msg: {'event': ['updateVolumes', '[{\"name\":\"mni152.nii.gz\",\"colormap\":\"gray\",\"opacity\":1,\"cal_min\":40,\"cal_max\":80,\"trustCalMinMax\":true,\"percentileFrac\":0.02,\"ignoreZeroVoxels\":false,\"visible\":true,\"colormapNegative\":\"\",\"frame4D\":0,\"imageType\":1,\"cal_minNeg\":null,\"cal_maxNeg\":null,\"colorbarVisible\":true,\"colormapLabel\":[],\"id\":\"78241425-f4ec-4582-94db-9c80a7b4fcce\"}]']} [<memory at 0x7f88b0f5b100>]\n",
      "_handle_frontend_msg: {'event': ['updateMeshes', '[]']} []\n"
     ]
    }
   ],
   "source": [
    "# !pip install ipyniivue\n",
    "import ipyniivue\n",
    "nv = ipyniivue.Niivue(crosshair_color=[0,1,0,1])\n",
    "nv.add_volume('https://niivue.github.io/niivue/images/mni152.nii.gz')\n",
    "nv"
   ]
  },
  {
   "cell_type": "code",
   "execution_count": 13,
   "metadata": {},
   "outputs": [
    {
     "data": {
      "application/vnd.jupyter.widget-view+json": {
       "model_id": "fed7e07e8a2743048d72e7841d2c00ea",
       "version_major": 2,
       "version_minor": 0
      },
      "text/plain": [
       "VBox(children=(ipyniivue.Niivue(back_color=[0.0, 0.0, 0.0, 1.0], clip_plane_color=[1.0, 1.0, 1.0, 0.5], crossh…"
      ]
     },
     "metadata": {},
     "output_type": "display_data"
    },
    {
     "name": "stdout",
     "output_type": "stream",
     "text": [
      "_handle_frontend_msg: {'event': ['updateVolumes', '[{\"name\":\"mni152.nii.gz\",\"colormap\":\"gray\",\"opacity\":1,\"cal_min\":40,\"cal_max\":80,\"trustCalMinMax\":true,\"percentileFrac\":0.02,\"ignoreZeroVoxels\":false,\"visible\":true,\"colormapNegative\":\"\",\"frame4D\":0,\"imageType\":1,\"cal_minNeg\":null,\"cal_maxNeg\":null,\"colorbarVisible\":true,\"colormapLabel\":[],\"id\":\"fddf74a7-2a2d-41f9-8bdf-c362565921c1\"}]']} [<memory at 0x7f8880973700>]\n",
      "_handle_frontend_msg: {'event': ['updateMeshes', '[]']} []\n",
      "_handle_frontend_msg: {'event': ['updateVolumes', '[{\"name\":\"mni152.nii.gz\",\"colormap\":\"gray\",\"opacity\":1,\"cal_min\":40,\"cal_max\":80,\"trustCalMinMax\":true,\"percentileFrac\":0.02,\"ignoreZeroVoxels\":false,\"visible\":true,\"colormapNegative\":\"\",\"frame4D\":0,\"imageType\":1,\"cal_minNeg\":null,\"cal_maxNeg\":null,\"colorbarVisible\":true,\"colormapLabel\":[],\"id\":\"fddf74a7-2a2d-41f9-8bdf-c362565921c1\"}]']} [<memory at 0x7f8880973700>]\n",
      "_handle_frontend_msg: {'event': ['updateMeshes', '[]']} []\n"
     ]
    }
   ],
   "source": [
    "from ipyniivue import Niivue\n",
    "\n",
    "# Creating a NiiVue object\n",
    "nv = Niivue(show_3D_crosshair=True)\n",
    "\n",
    "# Display it so it has a canvas an WebGL context. Also display the controls\n",
    "display(widgets.VBox([nv]))"
   ]
  },
  {
   "cell_type": "code",
   "execution_count": 14,
   "metadata": {},
   "outputs": [],
   "source": [
    "nv.add_volume(\"https://niivue.github.io/niivue/images/mni152.nii.gz\")\n",
    "nv.set_slice_type(nv.slice_type.render)"
   ]
  },
  {
   "cell_type": "code",
   "execution_count": 12,
   "metadata": {},
   "outputs": [],
   "source": [
    "nv.load_meshes([{\"url\": \"https://niivue.github.io/niivue/images/dpsv.trx\", \"rgba255\": [0, 142, 0, 255]}])\n"
   ]
  },
  {
   "cell_type": "code",
   "execution_count": 9,
   "metadata": {},
   "outputs": [],
   "source": [
    "nv.set_mesh_property(nv.meshes[0].id, \"colormap\", \"blue\")\n",
    "nv.set_clip_plane([-0.1, 270, 0])"
   ]
  },
  {
   "cell_type": "code",
   "execution_count": null,
   "metadata": {},
   "outputs": [],
   "source": []
  }
 ],
 "metadata": {
  "kernelspec": {
   "display_name": "Python 3.9.13 ('base')",
   "language": "python",
   "name": "python3"
  },
  "language_info": {
   "codemirror_mode": {
    "name": "ipython",
    "version": 3
   },
   "file_extension": ".py",
   "mimetype": "text/x-python",
   "name": "python",
   "nbconvert_exporter": "python",
   "pygments_lexer": "ipython3",
   "version": "3.9.13"
  },
  "orig_nbformat": 4,
  "vscode": {
   "interpreter": {
    "hash": "7d7010f9d425683ae41e5b0b8dc0d6eb35e44e03f18d381e022146c22a330439"
   }
  }
 },
 "nbformat": 4,
 "nbformat_minor": 2
}
